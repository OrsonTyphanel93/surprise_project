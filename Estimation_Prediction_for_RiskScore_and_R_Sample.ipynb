{
  "nbformat": 4,
  "nbformat_minor": 0,
  "metadata": {
    "hide_input": false,
    "kernelspec": {
      "display_name": "Python [conda env:la-covid19-env] *",
      "language": "python",
      "name": "conda-env-la-covid19-env-py"
    },
    "language_info": {
      "codemirror_mode": {
        "name": "ipython",
        "version": 3
      },
      "file_extension": ".py",
      "mimetype": "text/x-python",
      "name": "python",
      "nbconvert_exporter": "python",
      "pygments_lexer": "ipython3",
      "version": "3.7.7"
    },
    "colab": {
      "name": "Estimation_Prediction_for_RiskScore_and_R_Sample.ipynb",
      "provenance": [],
      "collapsed_sections": [
        "l2bAIxLuVorE",
        "s3IJpCNIUQ0K",
        "w08IXevrUQ0p",
        "aflufJ61UQ02",
        "SXxu07KBUQ1M",
        "KxGl8KhQUQ1Z",
        "oDzrdZbSUQ1h",
        "NPfHZcgjUQ1s",
        "XqL2D2o-UQ2Y"
      ],
      "toc_visible": true,
      "include_colab_link": true
    }
  },
  "cells": [
    {
      "cell_type": "markdown",
      "metadata": {
        "id": "view-in-github",
        "colab_type": "text"
      },
      "source": [
        "<a href=\"https://colab.research.google.com/github/OrsonTyphanel93/surprise_project/blob/master/Estimation_Prediction_for_RiskScore_and_R_Sample.ipynb\" target=\"_parent\"><img src=\"https://colab.research.google.com/assets/colab-badge.svg\" alt=\"Open In Colab\"/></a>"
      ]
    },
    {
      "cell_type": "markdown",
      "metadata": {
        "id": "1AUz5rVZUQzS"
      },
      "source": [
        "### Daily R value derived from number of cases reported in LA county\n",
        "Mehrdad Kiamari, Bhaskar Krishnamachari - June 2020\n",
        "\n",
        "To monitor the severity of any epidemic, it is crucial to look at $R_t$ which is a value representing the effective reproduction number (the number of individuals who are infected per infectious individual at time $t$) of the disease. \n",
        "\n",
        "Regarding $R_t$, the epidemic will exponentially grow among the population when $R_t >> 1$. However, the epidemic sloowly disappear as $R_t<1$. Since restirctions would eventually impactts $R_t$, this measure can guide authorities to take appropriate actions regarding tightening or loosing restrictions for the sake of having economic prosperity and human safety.   \n",
        "\n",
        "In this code, we aim at estimating daily R value of COVID-19 in LA county. Our approach is universal and can be utilized for any area. We use SIR model, i.e.\n",
        "\n",
        "$$\n",
        "\\begin{align}\n",
        "\\frac{dS}{dt} &= -\\beta \\frac{SI}{N}\\\\\n",
        "\\frac{dI}{dt} &= +\\beta \\frac{SI}{N} - \\sigma I\\\\\n",
        "\\frac{dR}{dt} &= \\sigma I\n",
        "\\end{align}\n",
        "$$\n",
        "\n",
        "where $S$, $I$, and $R$ represent the number of Susceptible, Infected, and Recovered people in a population size of $N$. Regarding the parameter $\\sigma = \\frac{1}{D_i}$, $D_i$ represents the average infectious days.\n",
        "\n",
        "As far as $R$ is concerned, it is equal to $\\frac{\\beta}{\\sigma}$. Our idea is to estimate $\\beta$ at each time from the above differential equation which involves $\\frac{dI}{dt}$, then calculate the corresponding $R$."
      ]
    },
    {
      "cell_type": "markdown",
      "metadata": {
        "id": "nTkRlkx9eZhS"
      },
      "source": [
        "### Data"
      ]
    },
    {
      "cell_type": "markdown",
      "metadata": {
        "id": "MoZOKaP-q4oq"
      },
      "source": [
        "Download the following 5 files and store them in you Google Drive."
      ]
    },
    {
      "cell_type": "markdown",
      "metadata": {
        "id": "dUlcnL2Hej9D"
      },
      "source": [
        "\n",
        " - [lacounty_covid.json](https://drive.google.com/file/d/183F9ZeTvuPHXFZdZK9ZNz5iSR6_Q1vtS/view?usp=sharing)\n",
        "    - Cases by community (cumulative)\n",
        " - [Covid-19.csv](https://drive.google.com/file/d/1NJFrxGVY4SxgdfWX2TFqbhZ7vnHgy_oX/view?usp=sharing)\n",
        "    - Daily number of cases for each community (Non cumulative)\n",
        " - [Covid-19-density.csv](https://drive.google.com/file/d/1dpzqG1Ma4RCMdYhNO__UaPvcq3mug7qG/view?usp=sharing)\n",
        "    - Density for each community (Density = number of cases / population)\n",
        " - [processed_population.csv](https://drive.google.com/file/d/10Vv68bvsLtM1vtZW7UZjQLd1t7tAnxka/view?usp=sharing)\n",
        "    - Population for each community\n",
        " - [population.json](https://drive.google.com/file/d/1ZYE-FaY83Dc0k_tVcfgQ4XL6uD5g2CKr/view?usp=sharing)\n",
        "    - Population for each community\n",
        " \n",
        "\n"
      ]
    },
    {
      "cell_type": "markdown",
      "metadata": {
        "id": "l2bAIxLuVorE"
      },
      "source": [
        "### Module Installations"
      ]
    },
    {
      "cell_type": "code",
      "metadata": {
        "id": "_9WsFttsW861",
        "cellView": "form",
        "colab": {
          "base_uri": "https://localhost:8080/"
        },
        "outputId": "eab3cbb6-83fb-40ed-a6a0-8efd878817d7"
      },
      "source": [
        "#@title\n",
        "!pip install gekko"
      ],
      "execution_count": null,
      "outputs": [
        {
          "output_type": "stream",
          "text": [
            "Collecting gekko\n",
            "\u001b[?25l  Downloading https://files.pythonhosted.org/packages/f9/4b/d5520da5a95fe677d05479a8391327d318fad9f250de791e390c4c39e712/gekko-0.2.8-py3-none-any.whl (10.8MB)\n",
            "\u001b[K     |████████████████████████████████| 10.8MB 6.7MB/s \n",
            "\u001b[?25hRequirement already satisfied: numpy>=1.8 in /usr/local/lib/python3.6/dist-packages (from gekko) (1.18.5)\n",
            "Requirement already satisfied: flask in /usr/local/lib/python3.6/dist-packages (from gekko) (1.1.2)\n",
            "Collecting flask-cors\n",
            "  Downloading https://files.pythonhosted.org/packages/69/7f/d0aeaaafb5c3c76c8d2141dbe2d4f6dca5d6c31872d4e5349768c1958abc/Flask_Cors-3.0.9-py2.py3-none-any.whl\n",
            "Requirement already satisfied: Jinja2>=2.10.1 in /usr/local/lib/python3.6/dist-packages (from flask->gekko) (2.11.2)\n",
            "Requirement already satisfied: click>=5.1 in /usr/local/lib/python3.6/dist-packages (from flask->gekko) (7.1.2)\n",
            "Requirement already satisfied: Werkzeug>=0.15 in /usr/local/lib/python3.6/dist-packages (from flask->gekko) (1.0.1)\n",
            "Requirement already satisfied: itsdangerous>=0.24 in /usr/local/lib/python3.6/dist-packages (from flask->gekko) (1.1.0)\n",
            "Requirement already satisfied: Six in /usr/local/lib/python3.6/dist-packages (from flask-cors->gekko) (1.15.0)\n",
            "Requirement already satisfied: MarkupSafe>=0.23 in /usr/local/lib/python3.6/dist-packages (from Jinja2>=2.10.1->flask->gekko) (1.1.1)\n",
            "Installing collected packages: flask-cors, gekko\n",
            "Successfully installed flask-cors-3.0.9 gekko-0.2.8\n"
          ],
          "name": "stdout"
        }
      ]
    },
    {
      "cell_type": "code",
      "metadata": {
        "id": "oz7gPJRHUQzW",
        "cellView": "form"
      },
      "source": [
        "#@title\n",
        "import json\n",
        "import re\n",
        "import matplotlib.pyplot as plt\n",
        "from matplotlib.pyplot import subplots\n",
        "import numpy as np\n",
        "from matplotlib.colors import hsv_to_rgb\n",
        "from itertools import combinations\n",
        "import pandas as pd\n",
        "from scipy.optimize import fsolve\n",
        "\n",
        "from gekko import GEKKO\n",
        "from matplotlib.dates import date2num, num2date\n",
        "from matplotlib import dates as mdates\n",
        "from matplotlib import ticker\n",
        "from matplotlib.colors import ListedColormap\n",
        "from matplotlib.patches import Patch\n",
        "from scipy.interpolate import interp1d\n",
        "\n",
        "from IPython.display import clear_output\n",
        "%config InlineBackend.figure_format = 'retina'"
      ],
      "execution_count": null,
      "outputs": []
    },
    {
      "cell_type": "markdown",
      "metadata": {
        "id": "sRtzh9MvrPoh"
      },
      "source": [
        "### Below cell mounts your Google Drive to this notebook, giving you access to those 5 files"
      ]
    },
    {
      "cell_type": "code",
      "metadata": {
        "id": "twBuLRbBXFCu",
        "colab": {
          "base_uri": "https://localhost:8080/"
        },
        "outputId": "2e0f5917-9381-43e8-d723-70a53d3cfd0e"
      },
      "source": [
        "from google.colab import drive\n",
        "drive.mount('/content/drive')"
      ],
      "execution_count": null,
      "outputs": [
        {
          "output_type": "stream",
          "text": [
            "Mounted at /content/drive\n"
          ],
          "name": "stdout"
        }
      ]
    },
    {
      "cell_type": "markdown",
      "metadata": {
        "id": "NfYASUdPUQzj"
      },
      "source": [
        "Create a dictionary consisting of communities and their population as keys and values, respectively. "
      ]
    },
    {
      "cell_type": "code",
      "metadata": {
        "id": "DKRN8sF-UQzo",
        "cellView": "both"
      },
      "source": [
        "with open('/content/drive/My Drive/population.json') as json_file_pop:\n",
        "\tdata_population = json.load(json_file_pop)"
      ],
      "execution_count": null,
      "outputs": []
    },
    {
      "cell_type": "markdown",
      "metadata": {
        "id": "jw4kS5BDUQzz"
      },
      "source": [
        "Function to check if the communitiy exists in the dictionary for population"
      ]
    },
    {
      "cell_type": "code",
      "metadata": {
        "id": "QBfbiF7eUQz2",
        "cellView": "both"
      },
      "source": [
        "def check_if_community_is_in_dic_pop(community_name):\n",
        "\twith open('/content/drive/My Drive/population_whole_county.json') as json_file_pop:\n",
        "\t\tdata_population = json.load(json_file_pop)\n",
        "\t\ttemp = [val for key,val in data_population.items() if community_name == key.strip().split('--')[0]]\n",
        "\t\tif len(temp)==1:\n",
        "\t\t\treturn True\n",
        "\t\treturn False"
      ],
      "execution_count": null,
      "outputs": []
    },
    {
      "cell_type": "code",
      "metadata": {
        "id": "ZrGmDJeqUQ0A"
      },
      "source": [
        "#@title\n",
        "def calculating_approx_R_for_community(sigma,ave_k):\n",
        "    vec_I,population = self.confirmed_daily, self.pop\n",
        "    c = len(vec_I)\n",
        "    matrix_I = vec_I[np.newaxis,:]\n",
        "    beta_SIR,R= np.zeros((c-1,)),np.zeros((c-1,))\n",
        "    for time in range(c-1):\n",
        "        clear_output(wait=True)\n",
        "        next_I,curr_I,N = ave_k*vec_I[time+1],ave_k*vec_I[time],population\n",
        "        print(\"curr\", curr_I, \"next\", next_I)\n",
        "\n",
        "        if curr_I != 0:\n",
        "            output = (next_I - curr_I+sigma*curr_I)/(curr_I-(1/N)*curr_I**2)\n",
        "        else:\n",
        "            output = 0\n",
        "\n",
        "        beta_SIR[time] = max(0,output)\n",
        "\n",
        "        self.infection_rate[time] = beta_SIR[time] / sigma\n",
        "    clear_output(wait=True) \n",
        "\n",
        "    #return R"
      ],
      "execution_count": null,
      "outputs": []
    },
    {
      "cell_type": "markdown",
      "metadata": {
        "id": "s3IJpCNIUQ0K"
      },
      "source": [
        "### Side Class and Functions\n",
        "\n",
        "Each community is an object with few attributes such as name, number of daily or cumulative cases, etc.\n"
      ]
    },
    {
      "cell_type": "code",
      "metadata": {
        "id": "toN0pzxuUQ0L",
        "cellView": "form"
      },
      "source": [
        "#@title\n",
        "class community:\n",
        "\tdef __init__(self,name,actual_name,Today_date):\n",
        "\t\tself.name = name\n",
        "\t\tself.Today_date = Today_date\n",
        "\t\tself.actual_name = actual_name\n",
        "\n",
        "\t\tself.confirmed = np.zeros(len(range(16,self.Today_date)),dtype=int)\n",
        "\t\tself.confirmed_daily = np.zeros(len(range(16,self.Today_date)),dtype=int)\n",
        "\n",
        "\t\tself.infection_rate = np.zeros(len(range(16,self.Today_date-1)))\n",
        "\t\tself.risk = np.zeros(len(range(16,self.Today_date-1)))\n",
        "\t\tself.pop = 0\n",
        "\tdef set_population(self,val):        \n",
        "\t\tself.pop = val\n",
        "\tdef smoothing(self,n):        \n",
        "\t\tself.confirmed_daily = mov_ave(self.confirmed_daily,n,100) \n",
        "\tdef calculating_approx_R_and_risk_for_community(self,sigma,ave_k):\n",
        "\t\tmatrix_I,population = self.confirmed_daily, self.pop\n",
        "\t\tc = matrix_I.shape[1]\n",
        "\t\tbeta_SIR,R= np.zeros((c-1,)),np.zeros((c-1,))\n",
        "\t\tfor time in range(c-1):\n",
        "\t\t\tnext_I,curr_I,N = ave_k*matrix_I[0,time+1],ave_k*matrix_I[0,time],self.pop\n",
        "\t\t\tif curr_I != 0:\n",
        "\t\t\t\toutput = (next_I - curr_I+sigma*curr_I)/(curr_I-(1/N)*curr_I**2)\n",
        "\t\t\telse:\n",
        "\t\t\t\toutput = 0\n",
        "\t\t\tbeta_SIR[time] = max(0,output)\n",
        "\t\t\tself.infection_rate[time] = beta_SIR[time] / sigma\n",
        "\t\t\tself.risk[time]= (10000.0*self.infection_rate[time])*(curr_I)/N\n",
        "\n",
        "\tdef check_validity_new_entry(self,day):\n",
        "\t\tindex = day - 16\n",
        "\t\tif index == 0:\n",
        "\t\t\treturn True\n",
        "\t\telse:\n",
        "\t\t\tif self.confirmed[index] >= self.confirmed[index-1]:\n",
        "\t\t\t\treturn True\n",
        "\t\t\treturn False\t\t\n",
        "\tdef update_confirmed_cases(self,day):\n",
        "\t\tindex = day - 16\n",
        "\t\twhile index != 0:\n",
        "\t\t\tif self.confirmed[index] < self.confirmed[index-1]:\n",
        "\t\t\t\tself.confirmed[index-1] = self.confirmed[index]\n",
        "\t\t\tindex -= 1\n",
        "\tdef addnumber(self,day, number):\n",
        "\t\tindex = day - 16\n",
        "\t\tself.confirmed[index] = number\n",
        "\t\tstatus_validity_of_entry = self.check_validity_new_entry(day)\n",
        "\t\tif not status_validity_of_entry:\n",
        "\t\t\tself.update_confirmed_cases(day)\n",
        "\n",
        "\t\n",
        "\tdef plot_info(self,type_plot):\n",
        "\t\toutput = np.zeros(len(range(16,self.Today_date)),dtype=int)\n",
        "\t\tfor index,i in enumerate(list(range(16,self.Today_date))):\n",
        "\t\t\tif type_plot == 'daily':\n",
        "\n",
        "\t\t\t\toutput = self.confirmed_daily\n",
        "\t\t\telse:\n",
        "\t\t\t\toutput = self.confirmed\n",
        "\t\treturn output\t\n",
        "\n",
        "\n",
        "\n",
        "def create_matrix(list_selected_communities,type_plot,til_date):\n",
        "\tmatrix_I =  np.zeros((len(list_selected_communities),til_date ))\n",
        "\tfor i,communiuty_obj in  enumerate(list_selected_communities):\n",
        "\t\tI_s_this_community_obj = communiuty_obj.plot_info(type_plot)[:til_date]\n",
        "\t\tfor j,infected_at_this_day in enumerate(I_s_this_community_obj):\n",
        "\t\t\t matrix_I[i,j] = infected_at_this_day\n",
        "\treturn matrix_I\t \n",
        "\n",
        "def fix_matrix_I(matrix_I):\n",
        "    output = np.zeros_like(matrix_I)\n",
        "    output[:,0] = matrix_I[:,0]\n",
        "    r,c = matrix_I.shape[0], matrix_I.shape[1]\n",
        "    for ind_r in range(r):\n",
        "        for ind_c in range(1,c):\n",
        "            if matrix_I[ind_r,ind_c] < matrix_I[ind_r,ind_c-1]:\n",
        "                output[ind_r,ind_c] = matrix_I[ind_r,ind_c-1]\n",
        "            else:\n",
        "                output[ind_r,ind_c] = matrix_I[ind_r,ind_c]\n",
        "    return output            "
      ],
      "execution_count": null,
      "outputs": []
    },
    {
      "cell_type": "code",
      "metadata": {
        "id": "cvDyUv35UQ0Y",
        "cellView": "both"
      },
      "source": [
        "\n",
        "data_pop = pd.read_csv('/content/drive/My Drive/processed_population.csv')\n",
        "dic_pop_new = {}\n",
        "for ind in data_pop.index: \n",
        "\tcity = data_pop['Region'][ind]\n",
        "\tprocessed_city = city.strip().lower().replace(' ','')\n",
        "\tprefixex = ['cityof','losangeles-','unincorporated-']\n",
        "\tfor word in prefixex:\n",
        "\t\tname_of_community = processed_city.replace(word,'')\n",
        "\n",
        "\tpop = data_pop['Population'][ind]\n",
        "\tdic_pop_new[name_of_community]=pop\n",
        "        \n",
        "def get_population_vec(list_communities):\n",
        "\toutput_list = []\n",
        "\t\n",
        "\tfor comm_obj in list_communities:    \n",
        "\t\tif comm_obj.name in dic_pop_new.keys():\n",
        "\t\t\toutput_list.append(dic_pop_new[name_of_community])\n",
        "\t\telse:\n",
        "\t\t\tprint(comm_obj.name)            \n",
        "\tif len(output_list) == len(list_communities):\n",
        "\t\toutput = np.asarray(output_list)\n",
        "\telse:\n",
        "\t\treturn -1\n",
        "\treturn output  "
      ],
      "execution_count": null,
      "outputs": []
    },
    {
      "cell_type": "code",
      "metadata": {
        "id": "ZBR9Kk8KUQ0h",
        "cellView": "form"
      },
      "source": [
        "#@title\n",
        "def solve_beta_for_single_time_polynomial(next_I,curr_I,sigma,N,prev_beta):      \n",
        "\tif curr_I != 0:\n",
        "\t\toutput = (next_I - curr_I+sigma*curr_I)/(curr_I-(1/N)*curr_I**2)\n",
        "\telse:\n",
        "\t\toutput = prev_beta\n",
        "\treturn output \t\n",
        "def solve_beta_for_single_time_exponential(next_I,curr_I,sigma,N,prev_beta):\n",
        "\tprint(\"curr\", curr_I, \"next\", next_I)\n",
        "\tif next_I>curr_I:\n",
        "\t\tif next_I != 0 and curr_I != 0 and next_I != curr_I:\n",
        "\t\t\tm = GEKKO()\n",
        "\t\t\tbeta = m.Var(value=.2)      \n",
        "\t\t\tm.Equations([((1/(beta-sigma))*m.log(next_I/((beta-sigma)-beta*next_I/N))) -  ((1/(beta-sigma))*m.log(curr_I/((beta-sigma)-beta*curr_I/N))) == 1.0]) \n",
        "\t\t\tm.solve(disp=False)     \n",
        "\t\t\toutput = beta.value[0]\n",
        "\t\telse:\n",
        "\t\t\toutput = solve_beta_for_single_time_polynomial(next_I,curr_I,sigma,N,prev_beta)\n",
        "\telse:\n",
        "\t\toutput = solve_beta_for_single_time_polynomial(next_I,curr_I,sigma,N,prev_beta)\t\n",
        "\n",
        "\treturn output \n",
        "def calculating_beta(matrix_I,vec_population,sigma,Today_date, name_top_selected_communities,type_solver):\n",
        "\tr,c = matrix_I.shape[0] , matrix_I.shape[1]\n",
        "\tmatrix_beta = np.zeros((r,c-1))\n",
        "\tR = np.zeros((r,c-1))\n",
        "\tfor city in range(r):\n",
        "\t\tprev_beta = 0\n",
        "\t\tfor time in range(c-1):\n",
        "\t\t\tclear_output(wait=True)  \n",
        "\t\t\tprint(\"beta for city:\",city)\n",
        "\t\t\tif type_solver == 'exact':\n",
        "\t\t\t\tmatrix_beta[city,time] = max(0,solve_beta_for_single_time_exponential(matrix_I[city,time+1],matrix_I[city,time],sigma,vec_population[city],prev_beta) )\n",
        "\t\t\telse:\n",
        "\t\t\t\tmatrix_beta[city,time] = max(0,solve_beta_for_single_time_polynomial(matrix_I[city,time+1],matrix_I[city,time],sigma,vec_population[city],prev_beta) )\n",
        "\t\t\tprev_beta = matrix_beta[city,time]\n",
        "\t\t\tR[city,time] = matrix_beta[city,time] / sigma\n",
        "\n",
        "\tclear_output(wait=True) \n",
        "\n",
        "\treturn matrix_beta\n",
        "\n",
        "def calculate_R_margin_for_single_time(next_I,curr_I,sigma,N):\n",
        "    if curr_I != 0: \n",
        "        D = 1/sigma;\n",
        "        std= 4.5\n",
        "        sigma = 1/(D-std) \n",
        "        down = max((next_I- curr_I)/( sigma*(curr_I- (1/N)*curr_I**2) ) + (1/(1-curr_I/N)),0)\n",
        "\n",
        "        factor = 10\n",
        "        next_I, curr_I = factor*next_I, factor*curr_I\n",
        "        sigma = 1/(D+std) \n",
        "        up = max((next_I- curr_I)/( sigma*(curr_I- (1/N)*curr_I**2) ) + (1/(1-curr_I/N)),0)\n",
        "    else:\n",
        "        down, up = 0, 0\n",
        "    return down,up\n",
        "\n",
        "def calculating_R_marigins(matrix_I,vec_population,sigma,Today_date, name_top_selected_communities):\n",
        "\tr,c = matrix_I.shape[0] , matrix_I.shape[1]\n",
        "\tU = np.zeros((r,c-1))\n",
        "\tD = np.zeros((r,c-1))\n",
        "\tfor city in range(r):\n",
        "\t\tfor time in range(c-1):\n",
        "\t\t\tmargin = calculate_R_margin_for_single_time(matrix_I[city,time+1],matrix_I[city,time],sigma,vec_population[city]) \n",
        "\t\t\tD[city,time],U[city,time] = margin[0],margin[1]\n",
        "\n",
        "\treturn D,U\n",
        "    "
      ],
      "execution_count": null,
      "outputs": []
    },
    {
      "cell_type": "markdown",
      "metadata": {
        "id": "w08IXevrUQ0p"
      },
      "source": [
        "### Load CSV File"
      ]
    },
    {
      "cell_type": "code",
      "metadata": {
        "id": "klzlACZTUQ0r",
        "cellView": "both"
      },
      "source": [
        "states1 = pd.read_csv('/content/drive/My Drive/Covid-19.csv', usecols=[0,1,4],\n",
        "                     index_col=['Region', 'Time Stamp'],\n",
        "                     parse_dates=['Time Stamp'],\n",
        "                     squeeze=True).sort_index()\n",
        "states = states1.groupby(['Region', 'Time Stamp']).sum()\n",
        "# states.head()"
      ],
      "execution_count": null,
      "outputs": []
    },
    {
      "cell_type": "markdown",
      "metadata": {
        "id": "aflufJ61UQ02"
      },
      "source": [
        "### Create DataFrame \n",
        "Make DataFrame for R"
      ]
    },
    {
      "cell_type": "code",
      "metadata": {
        "id": "7TV64OHwUQ03",
        "cellView": "both"
      },
      "source": [
        "def create_dataframe_for_R(ind_city,matrix_beta,sigma,U,D):  \n",
        "    r,c = matrix_beta.shape[0],matrix_beta.shape[1]\n",
        "    data={}\n",
        "    data['R'] = matrix_beta[ind_city,:]/sigma\n",
        "    data['Upper'] = U[ind_city,:]\n",
        "    data['Lower'] = D[ind_city,:]\n",
        "    data['Time Stamp'] = pd.date_range(start='2020-03-16', periods=c)    \n",
        "    dataset = pd.DataFrame(data)\n",
        "    dataset.set_index(['Time Stamp'], inplace=True)    \n",
        "    return dataset    "
      ],
      "execution_count": null,
      "outputs": []
    },
    {
      "cell_type": "code",
      "metadata": {
        "id": "JqRSYQaMUQ1B",
        "cellView": "both"
      },
      "source": [
        "def create_dataframe_for_Risk(ind_city,risk,U,D):  \n",
        "    r,c = risk.shape[0],risk.shape[1]\n",
        "    data={}\n",
        "    data['R'] = risk[ind_city,:]\n",
        "    data['Upper'] = U[ind_city,:]\n",
        "    data['Lower'] = D[ind_city,:]\n",
        "    data['Time Stamp'] = pd.date_range(start='2020-03-16', periods=c)    \n",
        "    dataset = pd.DataFrame(data)\n",
        "    dataset.set_index(['Time Stamp'], inplace=True)    \n",
        "    return dataset    "
      ],
      "execution_count": null,
      "outputs": []
    },
    {
      "cell_type": "markdown",
      "metadata": {
        "id": "SXxu07KBUQ1M"
      },
      "source": [
        "### Plot Func for R along its confidence interval"
      ]
    },
    {
      "cell_type": "code",
      "metadata": {
        "id": "9aoZRqqAUQ1N",
        "cellView": "both"
      },
      "source": [
        "def plot_rt(result, ax, state_name):\n",
        "    \n",
        "    ax.set_title(str(state_name))\n",
        "    \n",
        "    ABOVE = [1,0,0]\n",
        "    MIDDLE = [1,1,1]\n",
        "    BELOW = [0,0,0]\n",
        "    cmap = ListedColormap(np.r_[\n",
        "        np.linspace(BELOW,MIDDLE,25),\n",
        "        np.linspace(MIDDLE,ABOVE,25)\n",
        "    ])\n",
        "    color_mapped = lambda y: np.clip(y, .5, 1.5)-.5\n",
        "    \n",
        "    index = result['R'].index.get_level_values('Time Stamp')\n",
        "    values = result['R'].values\n",
        "    \n",
        "    ax.plot(index, values, c='k', zorder=1, alpha=.25)\n",
        "    ax.scatter(index,\n",
        "               values,\n",
        "               s=40,\n",
        "               lw=.5,\n",
        "               c=cmap(color_mapped(values)),\n",
        "               edgecolors='k', zorder=2)\n",
        "    \n",
        "    lowfn = interp1d(date2num(index),\n",
        "                     result['Lower'].values,\n",
        "                     bounds_error=False,\n",
        "                     fill_value='extrapolate')\n",
        "    \n",
        "    highfn = interp1d(date2num(index),\n",
        "                      result['Upper'].values,\n",
        "                      bounds_error=False,\n",
        "                      fill_value='extrapolate')\n",
        "    \n",
        "    extended = pd.date_range(start=pd.Timestamp('2020-03-16'),\n",
        "                             end=index[-1]+pd.Timedelta(days=1))\n",
        "    \n",
        "    ax.fill_between(extended,\n",
        "                    lowfn(date2num(extended)),\n",
        "                    highfn(date2num(extended)),\n",
        "                    color='k',\n",
        "                    alpha=.1,\n",
        "                    lw=0,\n",
        "                    zorder=3)\n",
        "\n",
        "    ax.axhline(1.0, c='k', lw=1, label='$R_t=1.0$', alpha=.25);\n",
        "    \n",
        "    ax.xaxis.set_major_locator(mdates.MonthLocator())\n",
        "    ax.xaxis.set_major_formatter(mdates.DateFormatter('%b'))\n",
        "    ax.xaxis.set_minor_locator(mdates.DayLocator())\n",
        "    \n",
        "    ax.yaxis.set_major_locator(ticker.MultipleLocator(1))\n",
        "    ax.yaxis.set_major_formatter(ticker.StrMethodFormatter(\"{x:.1f}\"))\n",
        "    ax.yaxis.tick_right()\n",
        "    ax.spines['left'].set_visible(False)\n",
        "    ax.spines['bottom'].set_visible(False)\n",
        "    ax.spines['right'].set_visible(False)\n",
        "    ax.margins(0)\n",
        "    ax.grid(which='major', axis='y', c='k', alpha=.1, zorder=-2)\n",
        "    ax.margins(0)\n",
        "    ax.set_ylim(0.0,14.0)\n",
        "    ax.set_xlim(pd.Timestamp('2020-03-16'), result.index.get_level_values('Time Stamp')[-1]+pd.Timedelta(days=1))\n"
      ],
      "execution_count": null,
      "outputs": []
    },
    {
      "cell_type": "markdown",
      "metadata": {
        "id": "KxGl8KhQUQ1Z"
      },
      "source": [
        "### Moving Average for Smoothing"
      ]
    },
    {
      "cell_type": "code",
      "metadata": {
        "id": "V5ELGn7IUQ1a",
        "cellView": "both"
      },
      "source": [
        "def movingaverage(values, window):\n",
        "    weights = np.repeat(1.0, window)/window\n",
        "    sma = np.convolve(values, weights, 'valid')\n",
        "    return sma\n",
        "\n",
        "def moving_ave_on_matrix(matrix_I,n):\n",
        "    #n=7      \n",
        "    padded_I = np.zeros((matrix_I.shape[0],matrix_I.shape[1] + n-1 ))\n",
        "\n",
        "    padded_I[:,(n-1)//2:-(n-1)//2]=matrix_I\n",
        "    for city in range(matrix_I.shape[0]):\n",
        "        matrix_I[city,:] = movingaverage(padded_I[city,:],n)\n",
        "    return matrix_I"
      ],
      "execution_count": null,
      "outputs": []
    },
    {
      "cell_type": "markdown",
      "metadata": {
        "id": "oDzrdZbSUQ1h"
      },
      "source": [
        "### Considering a Gaussian Distribution for both parameter $D_I$ (recovery time) and factor $k$ (ratio of actual confirmed cases to reported ones)\n",
        "Setting the mean and var of PDFs"
      ]
    },
    {
      "cell_type": "code",
      "metadata": {
        "id": "zL3lJVMuUQ1j",
        "cellView": "both"
      },
      "source": [
        "mean_D = 7.5\n",
        "var_D = 3.0\n",
        "\n",
        "min_k_value = 1.0\n",
        "max_k_value = 5.0\n",
        "mean_k = .5*(min_k_value+max_k_value)\n",
        "var_k = ((max_k_value-min_k_value)/6)**2"
      ],
      "execution_count": null,
      "outputs": []
    },
    {
      "cell_type": "markdown",
      "metadata": {
        "id": "NPfHZcgjUQ1s"
      },
      "source": [
        "### PDFs of parameters $D_I$, $k$, and infection rate $R_t$ "
      ]
    },
    {
      "cell_type": "code",
      "metadata": {
        "id": "btM0UYEpUQ1u",
        "cellView": "both"
      },
      "source": [
        "def pdf_normal(x,mean,var):\n",
        "\treturn (1/np.sqrt(2*np.pi*var))*np.exp(-.5*(1/var)*((x-mean)**2))"
      ],
      "execution_count": null,
      "outputs": []
    },
    {
      "cell_type": "code",
      "metadata": {
        "id": "wXNsc3ElUQ11",
        "cellView": "both"
      },
      "source": [
        "def pdf_k(x,min_k_value,max_k_value):\n",
        "\tmean = .5*(min_k_value+max_k_value)\n",
        "\tvar = ((max_k_value-min_k_value)/6)**2\n",
        "\treturn (1/np.sqrt(2*np.pi*var))*np.exp(-.5*(1/var)*((x-mean)**2))\n",
        "\n",
        "def pdf_k_uniform(x,min_k_value,max_k_value):\n",
        "\tif min_k_value <= x and x <= max_k_value:\n",
        "\t\treturn 1/(max_k_value-min_k_value)\n",
        "\treturn 0\n",
        "\n",
        "\n",
        "def pdf_R_for_single_r(next_I,curr_I,N,r,mean_D,var_D,min_k_value,max_k_value):\n",
        "\ta , b = curr_I/N , (next_I-curr_I)/curr_I   \n",
        "\tmeanD, varD = mean_D,var_D\n",
        "\tstep_z = 0.01    \n",
        "\tz = np.arange(0,200,step_z)    \n",
        "\tinput_argument_pdf_sigma = list(map(lambda x:(r*(1-x*a)-1)/b,z))\n",
        "\tval_pdf_k = list(map(lambda x:pdf_k(x,min_k_value,max_k_value),z))\n",
        "\tval_pdf_sigma = list(map(lambda x:pdf_normal(x,meanD,varD),input_argument_pdf_sigma))\n",
        "\tcoeff = list(map(lambda x:np.absolute((1-x*a)/b),z))\n",
        "\n",
        "\treturn sum(np.multiply(np.multiply(coeff,val_pdf_sigma),val_pdf_k)*step_z)"
      ],
      "execution_count": null,
      "outputs": []
    },
    {
      "cell_type": "code",
      "metadata": {
        "id": "Gk0b0JWjUQ17",
        "cellView": "both"
      },
      "source": [
        "def cal_delta(next_I,curr_I,N,ave_r,desired_prob,mean_sigma,var_sigma,min_k_value,max_k_value):\n",
        "    prob, index, dr = 0,0,0.01\n",
        "\n",
        "    r = ave_r\n",
        "    prob = pdf_R_for_single_r(next_I,curr_I,N,r,mean_D,var_D,min_k_value,max_k_value)*dr\n",
        "    \n",
        "    ind_left ,ind_right = 1,1\n",
        "    while prob < desired_prob:\n",
        "\n",
        "        r = ave_r + ind_right*dr\n",
        "        prob += pdf_R_for_single_r(next_I,curr_I,N,r,mean_D,var_D,min_k_value,max_k_value)*dr\n",
        "        ind_right += 1\n",
        "        r = ave_r - ind_left*dr\n",
        "        prob += pdf_R_for_single_r(next_I,curr_I,N,r,mean_D,var_D,min_k_value,max_k_value)*dr\n",
        "        ind_left +=1\n",
        "    print(\"done!\",ind_right,ind_left, \"range \",ave_r - (ind_left-1)*dr , ave_r + (ind_right-1)*dr)\n",
        "    return ave_r - (ind_left-1)*dr , ave_r + (ind_right-1)*dr\n",
        "        "
      ],
      "execution_count": null,
      "outputs": []
    },
    {
      "cell_type": "code",
      "metadata": {
        "id": "-u0DIJpaUQ1_"
      },
      "source": [
        "from scipy import stats\n",
        "from scipy.stats import norm"
      ],
      "execution_count": null,
      "outputs": []
    },
    {
      "cell_type": "code",
      "metadata": {
        "id": "XVAvugtRUQ2F"
      },
      "source": [
        "def pdf_R_both_D_and_k_normal(r,next_I,curr_I,N,sigma,mu_D,var_D,mu_k,var_k):\n",
        "    k1 , k2 = .01 , N/curr_I\n",
        "    a , b = curr_I/N , np.absolute((next_I-curr_I)/curr_I)\n",
        "    alpha_0 = (((-(1/b)+(r/b)-mu_D)**2)/(2*var_D))+((mu_k**2)/(2*var_k)) \n",
        "    alpha_1 = -(((-(1/b)+(r/b)-mu_D)*(r*a/b))/(var_D))-((mu_k)/(var_k)) \n",
        "    alpha_2 = (((r*a/b)**2)/(2*var_D))+1/(2*var_k)\n",
        "    beta_0 , beta_1 = 1/b , -a/b\n",
        "    const = np.exp(-(alpha_0-(alpha_1**2)/(4*alpha_2)))/(2*np.pi*np.sqrt(var_D*var_k))\n",
        "    mu_c , var_c = -alpha_1/(2*alpha_2) , 1/(2*alpha_2)\n",
        "    \n",
        "    output_term1 = beta_1*var_c*const * (np.exp(-((k1-mu_c)**2)/(2*var_c))-np.exp(-((k2-mu_c)**2)/(2*var_c)))\n",
        "    output_term2 = (beta_1*mu_c+beta_0)*const*(np.sqrt(2*np.pi*var_c))*(norm.cdf((k2-mu_c)/np.sqrt(var_c))-norm.cdf((k1-mu_c)/np.sqrt(var_c)))\n",
        "    return output_term1+output_term2\n"
      ],
      "execution_count": null,
      "outputs": []
    },
    {
      "cell_type": "code",
      "metadata": {
        "id": "NqWFjsX7UQ2L"
      },
      "source": [
        "def cal_delta_closed_form_pdf_R(next_I,curr_I,N,ave_r,desired_prob,mean_D,var_D,mean_k,var_k):\n",
        "    if ave_r == 0:\n",
        "        return 0,0\n",
        "    prob, index, dr = 0,0,0.01\n",
        "    r = ave_r\n",
        "    prob = pdf_R_both_D_and_k_normal(r,next_I,curr_I,N,sigma,mean_D,var_D,mean_k,var_k)*dr\n",
        "    counter_exceed = 1\n",
        "    ind_left ,ind_right = 1,1\n",
        "    while prob < desired_prob and counter_exceed<1000:\n",
        "\n",
        "        r = ave_r + ind_right*dr\n",
        "        prob += pdf_R_both_D_and_k_normal(r,next_I,curr_I,N,sigma,mean_D,var_D,mean_k,var_k)*dr\n",
        "        ind_right += 1\n",
        "        if ave_r - ind_left*dr > 0:\n",
        "            r = ave_r - ind_left*dr\n",
        "            prob += pdf_R_both_D_and_k_normal(r,next_I,curr_I,N,sigma,mean_D,var_D,mean_k,var_k)*dr\n",
        "            ind_left +=1\n",
        "        counter_exceed +=1\n",
        "        if counter_exceed==1000:\n",
        "            return .5*ave_r,2*ave_r\n",
        "    print(\"-----done!\",ind_right,ind_left, \"range \",ave_r - (ind_left-1)*dr , ave_r + (ind_right-1)*dr)\n",
        "    return ave_r - (ind_left-1)*dr , ave_r + (ind_right-1)*dr"
      ],
      "execution_count": null,
      "outputs": []
    },
    {
      "cell_type": "code",
      "metadata": {
        "id": "08fLeQCNUQ2S",
        "colab": {
          "base_uri": "https://localhost:8080/"
        },
        "outputId": "7dcaaa0b-6927-40d8-81cb-1755bb73678d"
      },
      "source": [
        "range_r = np.arange(0.01,10,0.01)\n",
        "next_I, curr_I , N, sigma = 70.0,45.0,7800000.0,1.0/7.5\n",
        "val_pdf_r = list(map(lambda x:pdf_R_both_D_and_k_normal(x,next_I,curr_I,N,sigma,mean_D,var_D,mean_k,var_k),range_r))\n",
        "plt.plot(range_r,val_pdf_r)\n",
        "plt.show()"
      ],
      "execution_count": null,
      "outputs": [
        {
          "output_type": "display_data",
          "data": {
            "image/png": "[encoded data removed]",
            "text/plain": [
              "<Figure size 432x288 with 1 Axes>"
            ]
          },
          "metadata": {
            "tags": [],
            "image/png": {
              "width": 372,
              "height": 248
            },
            "needs_background": "light"
          }
        }
      ]
    },
    {
      "cell_type": "markdown",
      "metadata": {
        "id": "XqL2D2o-UQ2Y"
      },
      "source": [
        "### calculate AVERAGE $R_t$"
      ]
    },
    {
      "cell_type": "code",
      "metadata": {
        "id": "uO6Xve9PUQ2Z",
        "cellView": "both"
      },
      "source": [
        "def calculate_ave_R_t(next_I,curr_I,N,mean_D,var_D,min_k_value,max_k_value):\n",
        "    a = curr_I/N\n",
        "    b = (next_I-curr_I)/curr_I\n",
        "    step_k = .01\n",
        "    range_k = np.arange(min_k_value,max_k_value,step_k)\n",
        "    # \n",
        "    g1 = list(map(lambda x:(1/(1-x*a)),range_k))\n",
        "    pdf1 = list(map(lambda x:pdf_k(x,min_k_value,max_k_value),range_k))\n",
        "    exp1 = sum(np.multiply(g1,pdf1))*step_k\n",
        "    \n",
        "    exp2 = 1+ b*mean_D\n",
        "    \n",
        "    print(\"AVE R\",max(exp1*exp2,0))\n",
        "    return max(exp1*exp2,0)"
      ],
      "execution_count": null,
      "outputs": []
    },
    {
      "cell_type": "code",
      "metadata": {
        "id": "f5GacXl4UQ2f",
        "cellView": "both"
      },
      "source": [
        "def calculate_ave_RiskScore(next_I,curr_I,N,mean_D,var_D,min_k_value,max_k_value):\n",
        "    \n",
        "    a = curr_I/N\n",
        "    b = (next_I-curr_I)/curr_I\n",
        "    step_k = .01\n",
        "    range_k = np.arange(min_k_value,max_k_value,step_k)\n",
        "    g1 = list(map(lambda x:((x*a)/(1-x*a)),range_k))\n",
        "    pdf1 = list(map(lambda x:pdf_k(x,min_k_value,max_k_value),range_k))\n",
        "    exp1 = sum(np.multiply(g1,pdf1))*step_k\n",
        "    \n",
        "    exp2 = 1+ b*mean_D\n",
        "    \n",
        "    print(\"AVE Risk Score\",max(exp1*exp2,0))\n",
        "    return max(exp1*exp2,0)"
      ],
      "execution_count": null,
      "outputs": []
    },
    {
      "cell_type": "markdown",
      "metadata": {
        "id": "rywDThM6UQ2l"
      },
      "source": [
        "Calculate margin for Risk Score"
      ]
    },
    {
      "cell_type": "code",
      "metadata": {
        "id": "PbFMFhXFUQ2n"
      },
      "source": [
        "def pdf_Risk_for_single_r(next_I,curr_I,N,r,mean_D,var_D,min_k_value,max_k_value):\n",
        "\tconst = 10000*curr_I/N\n",
        "\ta , b = curr_I/N , (next_I-curr_I)/curr_I   \n",
        "\tmeanD, varD = mean_D,var_D\n",
        "\tstep_z = 0.01    \n",
        "\tz = np.arange(0.01,100,step_z)\n",
        "\tinput_argument_pdf_sigma = list(map(lambda x:(r*( (1/x)-a)/const-1)/b,z))\n",
        "\tval_pdf_k = list(map(lambda x:pdf_k(x,min_k_value,max_k_value),z))\n",
        "\tval_pdf_sigma = list(map(lambda x:pdf_normal(x,meanD,varD),input_argument_pdf_sigma))\n",
        "\tcoeff = list(map(lambda x:np.absolute(((1/x)-a)/(b*const)),z))\n",
        "\treturn sum(np.multiply(np.multiply(coeff,val_pdf_sigma),val_pdf_k)*step_z)\n",
        "def cal_delta_risk(next_I,curr_I,N,ave_r,desired_prob,mean_sigma,var_sigma,min_k_value,max_k_value):\n",
        "    if ave_r == 0:\n",
        "        return 0,0\n",
        "    prob, index, dr = 0,0,0.05\n",
        "\n",
        "    range_r = np.arange(0,1,dr)\n",
        "\n",
        "    r = ave_r\n",
        "    prob = pdf_Risk_for_single_r(next_I,curr_I,N,r,mean_D,var_D,min_k_value,max_k_value)*dr\n",
        "    \n",
        "    ind_left ,ind_right = 1,1\n",
        "    counter_exceed = 1\n",
        "    while prob < desired_prob and counter_exceed<1000:\n",
        "\n",
        "        r = ave_r + ind_right*dr\n",
        "        prob += 2*pdf_Risk_for_single_r(next_I,curr_I,N,r,mean_D,var_D,min_k_value,max_k_value)*dr\n",
        "        \n",
        "        if counter_exceed==1000:\n",
        "            return .5*ave_r,2*ave_r\n",
        "        ind_right += 1\n",
        "        print(\"prob\",prob)\n",
        "        \n",
        "        counter_exceed +=1\n",
        "\n",
        "    return max(0,ave_r - (ind_right-1)*dr) , ave_r + (ind_right-1)*dr\n",
        "\n"
      ],
      "execution_count": null,
      "outputs": []
    },
    {
      "cell_type": "code",
      "metadata": {
        "id": "8kfGE2iMUQ2r"
      },
      "source": [
        "def mov_ave(row_matrix,window,std_gaussian):\n",
        "    data_allc = pd.DataFrame(row_matrix.transpose())\n",
        "    data_allc=data_allc.rolling(window,win_type='parzen', min_periods=1,center=True).mean()\n",
        "    val_pd = (data_allc.values).transpose()       \n",
        "    return val_pd"
      ],
      "execution_count": null,
      "outputs": []
    },
    {
      "cell_type": "markdown",
      "metadata": {
        "id": "dO52En5yUQ2x"
      },
      "source": [
        "Prediction of R of communites for future"
      ]
    },
    {
      "cell_type": "code",
      "metadata": {
        "id": "0FS-LNqOUQ2y"
      },
      "source": [
        "def pred_R(name,matrix_beta, ind_last_day_to_consider_for_reg, num_last_days_used_in_reg,poly_degree):\n",
        "    num_cities,num_days = matrix_beta.shape[0],matrix_beta.shape[1]\n",
        "\n",
        "    for city in range(num_cities):\n",
        "        y = matrix_beta[city,ind_last_day_to_consider_for_reg-num_last_days_used_in_reg:ind_last_day_to_consider_for_reg+1]\n",
        "        x = (1.0)*np.arange(ind_last_day_to_consider_for_reg-num_last_days_used_in_reg,ind_last_day_to_consider_for_reg+1)\n",
        "        print(x)\n",
        "        print(y)\n",
        "        coeff = np.polyfit(x, y,1)\n",
        "        model = np.poly1d(coeff)\n",
        "\n",
        "        x_future = np.arange(ind_last_day_to_consider_for_reg+1,ind_last_day_to_consider_for_reg+2)\n",
        "    print(x_future,model(x_future))\n",
        "    return model(x_future)\n"
      ],
      "execution_count": null,
      "outputs": []
    },
    {
      "cell_type": "markdown",
      "metadata": {
        "id": "IApo_Q5mUQ22"
      },
      "source": [
        "Prediction of R of the entire LA county"
      ]
    },
    {
      "cell_type": "code",
      "metadata": {
        "id": "WY1-RAJgUQ24"
      },
      "source": [
        "def pred_R_LA(name,matrix_beta, ind_last_day_to_consider_for_reg, num_last_days_used_in_reg,poly_degree):\n",
        "    num_cities,num_days = matrix_beta.shape[0],matrix_beta.shape[1]\n",
        "\n",
        "    y = matrix_beta[0,0,ind_last_day_to_consider_for_reg-num_last_days_used_in_reg:ind_last_day_to_consider_for_reg+1]\n",
        "    x = (1.0)*np.arange(ind_last_day_to_consider_for_reg-num_last_days_used_in_reg,ind_last_day_to_consider_for_reg+1)\n",
        "    print(\"shape beta\",matrix_beta.shape, ind_last_day_to_consider_for_reg-num_last_days_used_in_reg,ind_last_day_to_consider_for_reg+1)\n",
        "    print(\"len(x)\",len(x))\n",
        "    print(\"matrix_beta.shape[1]\",matrix_beta.shape[1],'\\n',len(y))\n",
        "    coeff = np.polyfit(x, y,poly_degree) \n",
        "    model = np.poly1d(coeff)\n",
        "\n",
        "    x_future = np.arange(ind_last_day_to_consider_for_reg+1,ind_last_day_to_consider_for_reg+2)\n",
        "    print(\"ineeee\",x_future,model(x_future))\n",
        "    return model(x_future)"
      ],
      "execution_count": null,
      "outputs": []
    },
    {
      "cell_type": "code",
      "metadata": {
        "id": "LilqwyEYUQ28"
      },
      "source": [
        "def prediction_for_single_community_WITH_APPENDING_PRED_orignal(vec_beta, num_last_days_used_in_reg,future_days,poly_degree):\n",
        "    num_days = len(vec_beta)\n",
        "    y = vec_beta[-num_last_days_used_in_reg:]\n",
        "    x = (1.0)*np.arange(num_days-num_last_days_used_in_reg,num_days)\n",
        "    print(\"len(xy)\",len(x),len(y))\n",
        "    coeff = np.polyfit(x, y,poly_degree)\n",
        "    model = np.poly1d(coeff)\n",
        "    for ind_future in range(future_days):\n",
        "        y = vec_beta[-num_last_days_used_in_reg:]\n",
        "        x = (1.0)*np.arange(num_days-num_last_days_used_in_reg+ind_future,num_days+ind_future)\n",
        "        coeff = np.polyfit(x, y,poly_degree)\n",
        "        model = np.poly1d(coeff)\n",
        "        temp = model(num_days+ind_future)\n",
        "        vec_beta= np.append(vec_beta,temp)\n",
        "    plt.plot(np.arange(num_days),vec_beta[:num_days],'o-r') \n",
        "    plt.plot(np.arange(num_days,num_days+future_days),vec_beta[num_days:],'o-b') \n",
        "    \n",
        "    plt.show()\n",
        "    return temp\n",
        "\n",
        "    x_future = np.arange(num_days,num_days+future_days)\n",
        "    print(\"ineeee\",x_future,model(x_future))\n",
        "    return model(x_future)"
      ],
      "execution_count": null,
      "outputs": []
    },
    {
      "cell_type": "code",
      "metadata": {
        "id": "fvvTfD-dUQ3A"
      },
      "source": [
        "def calculating_risk_for_single_community(vec_I,population,sigma,ave_k):\n",
        "    c = len(vec_I)\n",
        "    matrix_I = vec_I[np.newaxis,:]\n",
        "    beta_SIR,R,risk = np.zeros((c-1,)),np.zeros((c-1,)),np.zeros((c-1,))\n",
        "    for time in range(c-1):\n",
        "        clear_output(wait=True)\n",
        "        next_I,curr_I,N = ave_k*vec_I[time+1],ave_k*vec_I[time],population\n",
        "        print(\"curr\", curr_I, \"next\", next_I)\n",
        "        if next_I>curr_I:\n",
        "            if next_I != 0 and curr_I != 0 and next_I != curr_I:\n",
        "                m = GEKKO()\n",
        "                beta = m.Var(value=.2)\n",
        "                m.Equations([((1/(beta-sigma))*m.log(next_I/((beta-sigma)-beta*next_I/N))) -  ((1/(beta-sigma))*m.log(curr_I/((beta-sigma)-beta*curr_I/N))) == 1.0])\n",
        "                m.solve(disp=False)\n",
        "                output = beta.value[0]\n",
        "            else:\n",
        "                if curr_I != 0:\n",
        "                    output = (next_I - curr_I+sigma*curr_I)/(curr_I-(1/N)*curr_I**2)\n",
        "                else:\n",
        "                    output = 0\n",
        "        else:\n",
        "            if curr_I != 0:\n",
        "                output = (next_I - curr_I+sigma*curr_I)/(curr_I-(1/N)*curr_I**2)\n",
        "            else:\n",
        "                output = 0\n",
        "\n",
        "        beta_SIR[time] = max(0,output)\n",
        "        R[time] = beta_SIR[time] / sigma\n",
        "        risk[time] = max((10000)*R[time]*vec_I[time]*ave_k/(1.0*population),0)\n",
        "    clear_output(wait=True) \n",
        "\n",
        "    return risk"
      ],
      "execution_count": null,
      "outputs": []
    },
    {
      "cell_type": "code",
      "metadata": {
        "id": "Xo-Ms8RyUQ3J"
      },
      "source": [
        "def decide_level(val,thresholds):\n",
        "    if val < thresholds[1]:\n",
        "        return 0\n",
        "    elif thresholds[1]<val and val<=thresholds[2]:\n",
        "        return 1\n",
        "    \n",
        "    elif thresholds[2]<val and val<=thresholds[3]:\n",
        "        return 2\n",
        "    else:\n",
        "        return 3"
      ],
      "execution_count": null,
      "outputs": []
    },
    {
      "cell_type": "code",
      "metadata": {
        "id": "9JTkiHvIUQ3N"
      },
      "source": [
        "def update_csv_file(dict_comm,thresholds):\n",
        "\n",
        "    data_map = pd.read_csv('/content/drive/My Drive/Covid-19-density.csv')\n",
        "    data_map['Date'] = pd.to_datetime(data_map['Time Stamp'], format='%m-%d-%Y')\n",
        "    data_map['Date-Start'] = '03-16-2020'\n",
        "    data_map['Date-Start'] = pd.to_datetime(data_map['Date-Start'], format='%m-%d-%Y')\n",
        "    data_map['Time-Index'] = (data_map['Date']-data_map['Date-Start']).dt.days\n",
        "    data_map['Risk-Score'] = -1.0\n",
        "    data_map['Risk-Level'] = -1\n",
        "    for ind in data_map.index: \n",
        "        # getting name of comm and do regular expressions\n",
        "        city = data_map['Region'][ind]\n",
        "        processed_city = city.strip().lower().replace(' ','')\n",
        "        prefixex = ['cityof','losangeles-','unincorporated-']\n",
        "        for word in prefixex:\n",
        "            name_of_community = processed_city.replace(word,'')\n",
        "\n",
        "        day = data_map['Time-Index'][ind]\n",
        "\n",
        "        comm_obj_list = [val for key,val in dict_comm.items() if name_of_community in key] \n",
        "        print(day)\n",
        "        comm_obj = comm_obj_list[0]\n",
        "        if day >= len(comm_obj.infection_rate):\n",
        "            data_map.drop(ind)\n",
        "        else:\n",
        "            if get_population_vec([comm_obj])!=-1: \n",
        "                data_map['Risk-Score'][ind] = comm_obj.risk[day]\n",
        "                data_map['Risk-Level'][ind] = decide_level(data_map['Risk-Score'][ind],thresholds)\n",
        "\n",
        "    print(\"num of missing\",len(data_map.loc[(data_map['Risk-Level'] == -1) & (data_map['Time-Index']==126)].Region.unique()))\n",
        "    path = 'Covid-19-R4.csv'\n",
        "    data_map.to_csv(path, mode='w',columns = ['Time Stamp','Region','Latitude','Longitude','Risk-Score','Risk-Level'])\n"
      ],
      "execution_count": null,
      "outputs": []
    },
    {
      "cell_type": "markdown",
      "metadata": {
        "id": "LY4C6XnSUQ3Q"
      },
      "source": [
        "### Adjust Parameters here - Main function\n"
      ]
    },
    {
      "cell_type": "code",
      "metadata": {
        "id": "iECsSYgWUQ3S",
        "cellView": "form"
      },
      "source": [
        "#@title\n",
        "def main(generate_CSV,average_k,show_risk_prediction,show_Risk,moving_average_days, Whole_LAcounty,top_i_comm, type_plot,Today_date,future_day_to_be_predicted,criteria, sigma):\n",
        "\tdict_county = {} # dictionary of all community objects\n",
        "\tlist_communities = [] # list of all community objects\n",
        "\tlist_pair = []\t\t\t\n",
        "\twith open('/content/drive/My Drive/lacounty_covid.json') as json_file:\n",
        "\t\tdata = json.load(json_file)\n",
        "\t\t# record all data by creating community classes and fill out their variables \n",
        "\t\tfor day in sorted([int(k) for k in data.keys()]):\n",
        "\t\t\tif day < Today_date :\n",
        "\t\t\t\tfor i in range(len(data[str(day)])):\n",
        "\t\t\t\t\tactual_name_of_community = \tdata[str(day)][i][0].strip()\n",
        "\t\t\t\t\tname_of_community = data[str(day)][i][0].strip().lower().replace(' ','')\n",
        "\t\t\t\t\tprefixex = ['cityof','losangeles-','unincorporated-']\n",
        "\t\t\t\t\tfor word in prefixex:\n",
        "\t\t\t\t\t\tname_of_community = name_of_community.replace(word,'') \n",
        "\t\t\t\t\tconfirmed_cases   = data[str(day)][i][0].strip().lower(),re.sub(\"[^0-9]\", \"\", data[str(day)][i][1].strip())\n",
        "\t\t\t\t\tif name_of_community not in dict_county.keys():\n",
        "\t\t\t\t\t\tdict_county[name_of_community] = community(name_of_community,actual_name_of_community,Today_date)\n",
        "\t\t\t\t\t\tlist_communities.append(dict_county[name_of_community ])  \n",
        "\t\t\t\t\t\tdict_county[name_of_community].addnumber(day,int(confirmed_cases[1]))\n",
        "\t\t\t\t\telse:\n",
        "\t\t\t\t\t\tdict_county[name_of_community].addnumber(day,int(confirmed_cases[1]))\n",
        "\n",
        "\t\t# get daily cases of all communities because the cumulative is already obtained\n",
        "\t\tdict_comm_for_update_csv = {}\n",
        "\t\tfor communiuty_obj in list_communities:\n",
        "\t\t\tdict_comm_for_update_csv[communiuty_obj.name] = communiuty_obj\n",
        "\t\t\tfor index in range(len(communiuty_obj.confirmed)):\n",
        "\t\t\t\tif index == 0:\n",
        "\t\t\t\t\tcommuniuty_obj.confirmed_daily[index] = communiuty_obj.confirmed[index]\n",
        "\t\t\t\telse:\n",
        "\t\t\t\t\tcommuniuty_obj.confirmed_daily[index] = communiuty_obj.confirmed[index] - communiuty_obj.confirmed[index-1]\t\n",
        "\n",
        "#=================================================================== \n",
        "#===================================================================                    \n",
        "#====    create CSV file for risk scores of all communities ========\n",
        "#===================================================================\n",
        "#=================================================================== \n",
        "\t\tif generate_CSV:\n",
        "\t\t\tlist_selected_communities=[]\n",
        "\t\t\tfor communiuty_obj in list_communities:\n",
        "\t\t\t\tif get_population_vec([communiuty_obj])!=-1:\n",
        "\t\t\t\t\tlist_selected_communities.append(communiuty_obj)\n",
        "\t\t\t#---------- Set population for each comm -----------------\n",
        "\t\t\tfor communiuty_obj in list_selected_communities:\n",
        "\t\t\t\tcommuniuty_obj.set_population(get_population_vec([communiuty_obj]))\n",
        "\t\t\t# fix confirmed cases (cumulative should not be decreasing) for each comm \n",
        "\t\t\tfor communiuty_obj in list_selected_communities:\n",
        "\t\t\t\tmatrix_I_single_comm = create_matrix([communiuty_obj], 'daily',Today_date-16)\n",
        "\t\t\t\tcommuniuty_obj.confirmed_daily = fix_matrix_I(matrix_I_single_comm)            \n",
        "\t\t\t#------------ smoothing infected cases for each comm -----  \n",
        "\t\t\tfor communiuty_obj in list_selected_communities:\n",
        "\t\t\t\tcommuniuty_obj.smoothing(moving_average_days)\n",
        "\t\t\t#----- calculating R and Risk Scores for each comm ------- \n",
        "\t\t\tfor communiuty_obj in list_selected_communities:\n",
        "\t\t\t\tcommuniuty_obj.calculating_approx_R_and_risk_for_community(sigma,average_k)\n",
        "\t\t\thist_thresholds = [-1.0,.1,1,2]\n",
        "\t\t\tupdate_csv_file(dict_comm_for_update_csv,hist_thresholds)\n",
        "\t\t\treturn 0\n",
        "#=================================================================== \n",
        "#===================================================================                    \n",
        "#=   END OF: create CSV file for risk scores of all communities ====\n",
        "#===================================================================\n",
        "#=================================================================== \n",
        "        \n",
        "        \n",
        "        \n",
        "#================================================================\n",
        "#================================================================\n",
        "#===============     entire LA county   =========================\n",
        "#================================================================\n",
        "#================================================================\n",
        "\t\tif Whole_LAcounty == True:        \n",
        "\t\t\ttype_plot ='daily'\n",
        "\t\t\tall_communities_available_in_pop_list = list_communities\n",
        "\t\t\tsum_population_all_communities = [10118800.0]    \n",
        "\t\t\tsum_population_all_communities[0] = 10118800.0                  \n",
        "\t\t\tall_communities_matrix_I = create_matrix(all_communities_available_in_pop_list, type_plot,Today_date-16)\n",
        "\t\t\tall_communities_matrix_I = fix_matrix_I(all_communities_matrix_I)\n",
        "\t\t\tsummed_over_all_comm_matrix_I = np.reshape(all_communities_matrix_I.sum(axis=0),(1,all_communities_matrix_I.shape[1]))\n",
        "\t\t\tsummed_over_all_comm_matrix_I = mov_ave(summed_over_all_comm_matrix_I,moving_average_days,100)\n",
        "            \n",
        "#=================    LA Risk scores computation   =====================\n",
        "\t\t\tif show_Risk == True:\n",
        "\t\t\t\trisk=calculating_risk_for_single_community(summed_over_all_comm_matrix_I[0,:],sum_population_all_communities[0],sigma,average_k)\n",
        "\t\t\t\tclear_output(wait=True)\n",
        "\t\t\t\tplt.figure()\n",
        "\t\t\t\tplt.plot(np.arange(len(risk)),risk,'o-r')\n",
        "\t\t\t\tplt.ylabel('Risk Score')\n",
        "\t\t\t\tplt.xlabel('Number of Days Since March 16, 2020')\n",
        "\t\t\t\tplt.title('Whole LA County')\n",
        "\n",
        "\t\t\t\t#    LA   prediction for Risk scores    ===============              \n",
        "\t\t\t\tif show_risk_prediction == True: \n",
        "\t\t\t\t\toutput_pred =[]\n",
        "\t\t\t\t\tpast_num_days_to_pred = 30\n",
        "\t\t\t\t\tnum_days_for_considering_reg_in = Today_date-16-1 \n",
        "\t\t\t\t\tfor day_to_pred in range(past_num_days_to_pred):\n",
        "\t\t\t\t\t\toutput_pred.append(max(0,pred_R('Whole LA county',risk[np.newaxis,:] ,num_days_for_considering_reg_in-past_num_days_to_pred+day_to_pred,7,1)))\n",
        "\t\t\t\t\tplt.plot(np.arange(len(risk)-past_num_days_to_pred,len(risk)),output_pred,'o--')\n",
        "\t\t\t\t\tplt.legend([\"Estimation\", \"Prediction(based on last 7 days)\"])\n",
        "\t\t\t\t\tclear_output(wait=True)\n",
        "\t\t\t\t\treturn 0\n",
        "\t\t\t\telse:\n",
        "\t\t\t\t\tplt.legend([\"Estimation\"])\n",
        "\t\t\t\t\tclear_output(wait=True)\n",
        "\t\t\t\t\treturn 0\n",
        "                \n",
        "\t\t\t#========      LA computing CI for Rt    ==================           \n",
        "\n",
        "\t\t\taverage_k = (min_k_value+max_k_value)/2\n",
        "\t\t\tsummed_over_all_comm_matrix_I = (average_k)*summed_over_all_comm_matrix_I            \n",
        "\t\t\tbeta_lacounty = calculating_beta(summed_over_all_comm_matrix_I,sum_population_all_communities,sigma,Today_date, all_communities_available_in_pop_list,'exact')\n",
        "\n",
        "\t\t\trisk=calculating_risk_for_single_community(summed_over_all_comm_matrix_I[0,:],sum_population_all_communities[0],sigma,1.0)\n",
        "\n",
        "\n",
        "   \n",
        "\t\t\tmargin=np.zeros((2,beta_lacounty.shape[1]))\n",
        "\t\t\tave_r=np.zeros((1,beta_lacounty.shape[1]))\n",
        "\t\t\tfor ind_cont_rate in range(beta_lacounty.shape[1]):\n",
        "\t\t\t\tcont_rate = beta_lacounty[0,ind_cont_rate]\n",
        "\t\t\t\tprint(ind_cont_rate,summed_over_all_comm_matrix_I[0,ind_cont_rate+1])\n",
        "\t\t\t\tnext_I,curr_I, N = summed_over_all_comm_matrix_I[0,ind_cont_rate+1],summed_over_all_comm_matrix_I[0,ind_cont_rate],sum_population_all_communities[0]\n",
        "\t\t\t\tprint(\"population\",N,next_I,curr_I)\n",
        "                \n",
        "#################################\n",
        "\t\t\t\tprint(risk.shape)\n",
        "\t\t\t\t#return 0        \n",
        "\n",
        "\t\t\t\tave_r[0,ind_cont_rate] = calculate_ave_RiskScore(next_I,curr_I,N,mean_D,var_D,min_k_value,max_k_value)\n",
        "\t\t\t\t#print(ave_r)\n",
        "\n",
        "\t\t\t\tout_CI= cal_delta_risk(next_I,curr_I,N,risk[ind_cont_rate],.95,mean_D,var_D,mean_k,var_k)    \n",
        "\t\t\t\tprint(\"out_CI\",out_CI)\n",
        "\t\t\t\tmargin[0,ind_cont_rate]=out_CI[0]\n",
        "\t\t\t\tmargin[1,ind_cont_rate]=out_CI[1]  \n",
        "\n",
        "\t\t\tprint(\"hhhh\",margin.shape)\n",
        "\t\t\t#return 0\n",
        "\t\t\tD_lacounty,U_lacounty=np.zeros((1,beta_lacounty.shape[1])),np.zeros((1,beta_lacounty.shape[1]))            \n",
        "\t\t\tD_lacounty =  margin[0,:]\n",
        "\t\t\tU_lacounty =  margin[1,:]\n",
        "\t\t\tD_lacounty =  D_lacounty[np.newaxis,:]\n",
        "\t\t\tU_lacounty =  U_lacounty[np.newaxis,:]\n",
        "\t\t\t##############################\n",
        "\t\t\tclear_output(wait=True)\n",
        "\t\t\tfig, ax = plt.subplots(figsize=(600/72,400/72))\n",
        "\t\t\tstate_name = \"Daily $R_0$ for LA county\"\n",
        "\t\t\tresult = create_dataframe_for_R(0,beta_lacounty,sigma,U_lacounty,D_lacounty)\n",
        "\n",
        "            \n",
        "\t\t\tplot_rt(result, ax, state_name)\n",
        "\n",
        "\t\t\tax.set_title({state_name})\n",
        "\t\t\tax.set_ylim(0.1,14.0)\n",
        "\t\t\tax.xaxis.set_major_locator(mdates.WeekdayLocator(interval=2))\n",
        "\t\t\tax.xaxis.set_major_formatter(mdates.DateFormatter('%b %d'))\n",
        "\n",
        "#================================================================\n",
        "#================================================================\n",
        "#==============    for selected COMMUNITIES  ==================== \n",
        "#================================================================\n",
        "#================================================================\n",
        "\t\telse:     \n",
        "\t\t\tlist_selected_communities=[]\n",
        "\t\t\tfor comm in list_communities:\n",
        "\t\t\t\tfor word in ['eastlosangeles','glendale','boyleheights','norwalk']:\n",
        "\t\t\t\t\tif comm.name== word:\n",
        "\t\t\t\t\t\tlist_selected_communities.append(comm)\n",
        "\t\t\tref_matrix_I = create_matrix(list_selected_communities, 'daily',Today_date-16)\n",
        "\t\t\tref_matrix_I = fix_matrix_I(ref_matrix_I)\n",
        "\t\t\t######################## Smoothing #########################\n",
        "\t\t\tref_matrix_I = mov_ave(ref_matrix_I,moving_average_days,100)\n",
        "           \n",
        "\t\t\tprint([obj.actual_name for obj in list_selected_communities])\n",
        "\t\t\tvec_population = get_population_vec(list_selected_communities)\n",
        "\t\t\tname_top_selected_communities = [obj.actual_name for obj in list_selected_communities]\n",
        "\t\t\t# find intial I for each city because the derivation equations are sensirtive to INTIAL values\n",
        "\t\t\t# initial_infection_for_SIR = find_intial_non_zero_val_Infection(ref_matrix_I)\n",
        "\t\t\t# plot_SIR(matrix_beta,sigma,vec_population, initial_infection_for_SIR, time_to_show,name_top_selected_communities)     \n",
        "\n",
        "#===========       COMMUNITIES Risk scores computation   =================\n",
        "\t\t\tif show_Risk == True:       \n",
        "\t\t\t\tfor ind in range(ref_matrix_I.shape[0]):\n",
        "\t\t\t\t\trisk_comm=calculating_risk_for_single_community(ref_matrix_I[ind,:],1.0*vec_population[ind],sigma,average_k)\n",
        "\t\t\t\t\tprint(\"city\\n\",ind)\n",
        "\t\t\t\t\tclear_output(wait=True)\n",
        "\t\t\t\t\tplt.figure()\n",
        "\t\t\t\t\tplt.plot(np.arange(len(risk_comm)),risk_comm,'o-r')\n",
        "\t\t\t\t\tplt.ylabel('Risk Score')\n",
        "\t\t\t\t\tplt.xlabel('Number of Days Since March 16, 2020')\n",
        "\t\t\t\t\tplt.title(list_selected_communities[ind].actual_name)\n",
        "#=============     COMMUNITIES prediction for Risk scores    =============\n",
        "\t\t\t\t\tif show_risk_prediction == True:\n",
        "                \n",
        "\t\t\t\t\t\toutput_pred =[]\n",
        "\t\t\t\t\t\tpast_num_days_to_pred = 30\n",
        "\t\t\t\t\t\tnum_days_for_considering_reg_in = Today_date-16-1 # or fix 83\n",
        "\t\t\t\t\t\tfor day_to_pred in range(past_num_days_to_pred):\n",
        "\t\t\t\t\t\t\toutput_pred.append(max(0,pred_R(list_selected_communities[ind].actual_name,risk_comm[np.newaxis,:] ,num_days_for_considering_reg_in-past_num_days_to_pred+day_to_pred,7,1)))\n",
        "\t\t\t\t\t\tplt.plot(np.arange(len(risk_comm)-past_num_days_to_pred,len(risk_comm)),output_pred,'o--')\n",
        "\t\t\t\t\t\tplt.legend([\"Estimation\", \"Prediction(based on last 7 days)\"])\n",
        "\t\t\t\t\t\tclear_output(wait=True)\n",
        "\t\t\t\t\telse:\n",
        "\t\t\t\t\t\tplt.legend([\"Estimation\"])    \n",
        "\t\t\t\t\t\tclear_output(wait=True)\n",
        "\t\t\t\treturn 0    \n",
        "#=============      COMMUNITIES computing CI for Rt    ==================\n",
        "\n",
        "\t\t\taverage_k = (min_k_value+max_k_value)/2\n",
        "            \n",
        "\n",
        "\t\t\tmatrix_beta = calculating_beta(ref_matrix_I,vec_population,sigma,Today_date, name_top_selected_communities,'exact')\n",
        "\t\t\trisk_all_comm = np.zeros_like(matrix_beta) \n",
        "           \n",
        "\t\t\tD,U=np.zeros((matrix_beta.shape[0],matrix_beta.shape[1])),np.zeros((matrix_beta.shape[0],matrix_beta.shape[1]))  \n",
        "\t\t\tfor ind_city in range(ref_matrix_I.shape[0]):\n",
        "\t\t\t\tprint(\"City\",ind_city)              \n",
        "\t\t\t\trisk_comm=calculating_risk_for_single_community(ref_matrix_I[ind_city,:],1.0*vec_population[ind_city],sigma,1.0)\n",
        "\t\t\t\trisk_all_comm[ind_city,:] = risk_comm\n",
        "                \n",
        "                \n",
        "\t\t\t\tmargin=np.zeros((2,matrix_beta.shape[1]))\n",
        "\t\t\t\tfor ind_cont_rate in range(matrix_beta.shape[1]):\n",
        "\t\t\t\t\tprint(\"ind_cont_rate\",ind_cont_rate)                   \n",
        "\t\t\t\t\tnext_I, curr_I = ref_matrix_I[ind_city,ind_cont_rate+1],ref_matrix_I[ind_city,ind_cont_rate]\n",
        "\t\t\t\t\tN = vec_population[ind_city]\n",
        "                    \n",
        "\t\t\t\t\tprint(\"ind_cont_rate\",ind_cont_rate,next_I,curr_I,N)                   \n",
        "\t\t\t\t\tave_r = calculate_ave_RiskScore(next_I,curr_I,N,mean_D,var_D,min_k_value,max_k_value)            \n",
        "\t\t\t\t\tout_CI= cal_delta_risk(next_I,curr_I,N,ave_r,.95,mean_D,var_D,mean_k,var_k) \n",
        "                    \n",
        "\t\t\t\t\tmargin[0,ind_cont_rate]=max(0,2*risk_all_comm[ind_city,ind_cont_rate]-out_CI[1])\n",
        "\t\t\t\t\tmargin[1,ind_cont_rate]=out_CI[1] \n",
        "\t\t\t\tD_lacounty =  margin[0,:]\n",
        "\t\t\t\tU_lacounty =  margin[1,:]\n",
        "\t\t\t\tD[ind_city,:] =  D_lacounty[np.newaxis,:]\n",
        "\t\t\t\tU[ind_city,:] =  U_lacounty[np.newaxis,:]     \n",
        "                \n",
        "#------------------------- Plotting Rt and its CI --------------------\n",
        "\t\t\tncols = 2\n",
        "\t\t\tnrows = int(np.ceil(len(name_top_selected_communities) / ncols))\n",
        "\t\t\tclear_output(wait=True)\n",
        "\t \n",
        "\t\t\tfig, axes = plt.subplots(nrows=nrows, ncols=ncols, figsize=(15, nrows*4))\n",
        "\t\t\tfor i, ax in enumerate(axes.flatten()):\n",
        "\t\t\t\tstate_name = name_top_selected_communities[i]\n",
        "\t\t\t\tresult = create_dataframe_for_R(i,risk_all_comm,1.0,U,D)\n",
        "\t\t\t\tplot_rt(result, axes.flat[i], state_name)   \n",
        "\t\t\tfig.tight_layout()\n",
        "\t\t\tfig.set_facecolor('w')\n",
        "\t\t\treturn risk_all_comm,U,D\n"
      ],
      "execution_count": null,
      "outputs": []
    },
    {
      "cell_type": "code",
      "metadata": {
        "id": "-DiEYiYsHjAz",
        "colab": {
          "base_uri": "https://localhost:8080/",
          "height": 294
        },
        "outputId": "992bac74-b963-475c-abf3-2c5c501cd42d"
      },
      "source": [
        "if __name__ == \"__main__\":\n",
        "\tgenerate_CSV         = False    # True: generate risk CSV file for all communities, False: shows plots\n",
        "\tshow_Risk            = True   # True: shows risk score, False: shows Rt\n",
        "\tshow_risk_prediction = False\n",
        "\tWhole_LAcounty       = True   # True: shows LA county, False: shows selceted communities\n",
        "\taverage_k = 1.0        # k is the ratio of active to reported cases \n",
        "\ttop_k_community_with_highest_confirmed = 1\n",
        "\tmoving_average_days = 14\n",
        "\t# Display mode: daily or cumulative\n",
        "\tdisplay_mode = 'daily'\n",
        "\tnumber_of_days_passed_from_16th = 145 - 16 + 1\n",
        "\tfuture_day_to_be_predicted = 1\n",
        "\tcriteria = 'train'\n",
        "\t# SIR model general settings\n",
        "\tsigma = 1.0/7.5 # 5.2\n",
        "\tmain(generate_CSV,average_k,show_risk_prediction,show_Risk,moving_average_days,Whole_LAcounty,top_k_community_with_highest_confirmed,display_mode, 16 + number_of_days_passed_from_16th,future_day_to_be_predicted,criteria,sigma)"
      ],
      "execution_count": null,
      "outputs": [
        {
          "output_type": "display_data",
          "data": {
            "image/png": "[encoded data removed]",
            "text/plain": [
              "<Figure size 432x288 with 1 Axes>"
            ]
          },
          "metadata": {
            "tags": [],
            "image/png": {
              "width": 392,
              "height": 277
            },
            "needs_background": "light"
          }
        }
      ]
    }
  ]
}